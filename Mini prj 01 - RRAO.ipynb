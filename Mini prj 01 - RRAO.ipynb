{
 "cells": [
  {
   "cell_type": "markdown",
   "id": "af0277f3",
   "metadata": {},
   "source": [
    "# Mini prj 01 : RRAO\n",
    "\n",
    "1. Write code to compute the RRAO capital for each QIS desk (should not include non QIS desks) and output the results in an excel file named \"QIS desks RRAO capital\". Your code should consume data from the RRAO tab in the attached file (further down this page) (FRTB - see section 23.8 (2) in the text: https://www.bis.org/bcbs/publ/d457.pdf)"
   ]
  },
  {
   "cell_type": "code",
   "execution_count": 73,
   "id": "f8f44042",
   "metadata": {},
   "outputs": [],
   "source": [
    "# import pandas lib to import csv and work with dataframes\n",
    "import pandas as pd"
   ]
  },
  {
   "cell_type": "code",
   "execution_count": 74,
   "id": "2911a191",
   "metadata": {},
   "outputs": [
    {
     "data": {
      "text/html": [
       "<div>\n",
       "<style scoped>\n",
       "    .dataframe tbody tr th:only-of-type {\n",
       "        vertical-align: middle;\n",
       "    }\n",
       "\n",
       "    .dataframe tbody tr th {\n",
       "        vertical-align: top;\n",
       "    }\n",
       "\n",
       "    .dataframe thead th {\n",
       "        text-align: right;\n",
       "    }\n",
       "</style>\n",
       "<table border=\"1\" class=\"dataframe\">\n",
       "  <thead>\n",
       "    <tr style=\"text-align: right;\">\n",
       "      <th></th>\n",
       "      <th>Desk</th>\n",
       "      <th>Region</th>\n",
       "      <th>QIS</th>\n",
       "      <th>RRAO category</th>\n",
       "      <th>Notional</th>\n",
       "    </tr>\n",
       "  </thead>\n",
       "  <tbody>\n",
       "    <tr>\n",
       "      <th>0</th>\n",
       "      <td>FX emerging markets</td>\n",
       "      <td>EMEA</td>\n",
       "      <td>Yes</td>\n",
       "      <td>Exotic</td>\n",
       "      <td>500,000.00</td>\n",
       "    </tr>\n",
       "    <tr>\n",
       "      <th>1</th>\n",
       "      <td>FX G20 ccys</td>\n",
       "      <td>NaN</td>\n",
       "      <td>YES</td>\n",
       "      <td>Other</td>\n",
       "      <td>1,000,000.00</td>\n",
       "    </tr>\n",
       "    <tr>\n",
       "      <th>2</th>\n",
       "      <td>EQ emerging markets</td>\n",
       "      <td>AP</td>\n",
       "      <td>NO</td>\n",
       "      <td>Exotic</td>\n",
       "      <td>1,000,000.00</td>\n",
       "    </tr>\n",
       "    <tr>\n",
       "      <th>3</th>\n",
       "      <td>Banking Book</td>\n",
       "      <td>Global</td>\n",
       "      <td>NaN</td>\n",
       "      <td>Other</td>\n",
       "      <td>1,000,000.00</td>\n",
       "    </tr>\n",
       "    <tr>\n",
       "      <th>4</th>\n",
       "      <td>EQ North America</td>\n",
       "      <td>NaN</td>\n",
       "      <td>Yes</td>\n",
       "      <td>Exotic</td>\n",
       "      <td>500,000.00</td>\n",
       "    </tr>\n",
       "  </tbody>\n",
       "</table>\n",
       "</div>"
      ],
      "text/plain": [
       "                  Desk  Region  QIS RRAO category         Notional\n",
       "0  FX emerging markets    EMEA  Yes        Exotic      500,000.00 \n",
       "1          FX G20 ccys     NaN  YES         Other    1,000,000.00 \n",
       "2  EQ emerging markets      AP   NO        Exotic    1,000,000.00 \n",
       "3         Banking Book  Global  NaN         Other    1,000,000.00 \n",
       "4     EQ North America     NaN  Yes        Exotic      500,000.00 "
      ]
     },
     "execution_count": 74,
     "metadata": {},
     "output_type": "execute_result"
    }
   ],
   "source": [
    "# import data from RRAO.csv\n",
    "rrao_df = pd.read_csv('RRAO.csv')\n",
    "rrao_df"
   ]
  },
  {
   "cell_type": "code",
   "execution_count": 75,
   "id": "ff2148cb",
   "metadata": {},
   "outputs": [
    {
     "data": {
      "text/plain": [
       "Index(['Desk', 'Region', 'QIS', 'RRAO category', 'Notional'], dtype='object')"
      ]
     },
     "execution_count": 75,
     "metadata": {},
     "output_type": "execute_result"
    }
   ],
   "source": [
    "# checking columns type\n",
    "rrao_df.columns"
   ]
  },
  {
   "cell_type": "code",
   "execution_count": 76,
   "id": "232ce51f",
   "metadata": {},
   "outputs": [
    {
     "data": {
      "text/html": [
       "<div>\n",
       "<style scoped>\n",
       "    .dataframe tbody tr th:only-of-type {\n",
       "        vertical-align: middle;\n",
       "    }\n",
       "\n",
       "    .dataframe tbody tr th {\n",
       "        vertical-align: top;\n",
       "    }\n",
       "\n",
       "    .dataframe thead th {\n",
       "        text-align: right;\n",
       "    }\n",
       "</style>\n",
       "<table border=\"1\" class=\"dataframe\">\n",
       "  <thead>\n",
       "    <tr style=\"text-align: right;\">\n",
       "      <th></th>\n",
       "      <th>Desk</th>\n",
       "      <th>Region</th>\n",
       "      <th>QIS</th>\n",
       "      <th>RRAO category</th>\n",
       "      <th>Notional</th>\n",
       "    </tr>\n",
       "  </thead>\n",
       "  <tbody>\n",
       "    <tr>\n",
       "      <th>0</th>\n",
       "      <td>FX emerging markets</td>\n",
       "      <td>EMEA</td>\n",
       "      <td>Yes</td>\n",
       "      <td>Exotic</td>\n",
       "      <td>500000.0</td>\n",
       "    </tr>\n",
       "    <tr>\n",
       "      <th>1</th>\n",
       "      <td>FX G20 ccys</td>\n",
       "      <td>NaN</td>\n",
       "      <td>YES</td>\n",
       "      <td>Other</td>\n",
       "      <td>1000000.0</td>\n",
       "    </tr>\n",
       "    <tr>\n",
       "      <th>2</th>\n",
       "      <td>EQ emerging markets</td>\n",
       "      <td>AP</td>\n",
       "      <td>NO</td>\n",
       "      <td>Exotic</td>\n",
       "      <td>1000000.0</td>\n",
       "    </tr>\n",
       "    <tr>\n",
       "      <th>3</th>\n",
       "      <td>Banking Book</td>\n",
       "      <td>Global</td>\n",
       "      <td>NaN</td>\n",
       "      <td>Other</td>\n",
       "      <td>1000000.0</td>\n",
       "    </tr>\n",
       "    <tr>\n",
       "      <th>4</th>\n",
       "      <td>EQ North America</td>\n",
       "      <td>NaN</td>\n",
       "      <td>Yes</td>\n",
       "      <td>Exotic</td>\n",
       "      <td>500000.0</td>\n",
       "    </tr>\n",
       "  </tbody>\n",
       "</table>\n",
       "</div>"
      ],
      "text/plain": [
       "                  Desk  Region  QIS RRAO category   Notional\n",
       "0  FX emerging markets    EMEA  Yes        Exotic   500000.0\n",
       "1          FX G20 ccys     NaN  YES         Other  1000000.0\n",
       "2  EQ emerging markets      AP   NO        Exotic  1000000.0\n",
       "3         Banking Book  Global  NaN         Other  1000000.0\n",
       "4     EQ North America     NaN  Yes        Exotic   500000.0"
      ]
     },
     "execution_count": 76,
     "metadata": {},
     "output_type": "execute_result"
    }
   ],
   "source": [
    "# Notional MUST be int or float to be able to apply math functions\n",
    "# given it has comas as thousands separator, need to remove them and convert to float\n",
    "\n",
    "rrao_df['Notional'] = pd.to_numeric( rrao_df['Notional'].str.strip().str.replace(',', '') )\n",
    "rrao_df"
   ]
  },
  {
   "cell_type": "code",
   "execution_count": 77,
   "id": "29eca29e",
   "metadata": {},
   "outputs": [
    {
     "data": {
      "text/html": [
       "<div>\n",
       "<style scoped>\n",
       "    .dataframe tbody tr th:only-of-type {\n",
       "        vertical-align: middle;\n",
       "    }\n",
       "\n",
       "    .dataframe tbody tr th {\n",
       "        vertical-align: top;\n",
       "    }\n",
       "\n",
       "    .dataframe thead th {\n",
       "        text-align: right;\n",
       "    }\n",
       "</style>\n",
       "<table border=\"1\" class=\"dataframe\">\n",
       "  <thead>\n",
       "    <tr style=\"text-align: right;\">\n",
       "      <th></th>\n",
       "      <th>Desk</th>\n",
       "      <th>Region</th>\n",
       "      <th>QIS</th>\n",
       "      <th>RRAO category</th>\n",
       "      <th>Notional</th>\n",
       "    </tr>\n",
       "  </thead>\n",
       "  <tbody>\n",
       "    <tr>\n",
       "      <th>0</th>\n",
       "      <td>FX emerging markets</td>\n",
       "      <td>EMEA</td>\n",
       "      <td>Yes</td>\n",
       "      <td>Exotic</td>\n",
       "      <td>500000.0</td>\n",
       "    </tr>\n",
       "    <tr>\n",
       "      <th>1</th>\n",
       "      <td>FX G20 ccys</td>\n",
       "      <td>NaN</td>\n",
       "      <td>YES</td>\n",
       "      <td>Other</td>\n",
       "      <td>1000000.0</td>\n",
       "    </tr>\n",
       "    <tr>\n",
       "      <th>4</th>\n",
       "      <td>EQ North America</td>\n",
       "      <td>NaN</td>\n",
       "      <td>Yes</td>\n",
       "      <td>Exotic</td>\n",
       "      <td>500000.0</td>\n",
       "    </tr>\n",
       "  </tbody>\n",
       "</table>\n",
       "</div>"
      ],
      "text/plain": [
       "                  Desk Region  QIS RRAO category   Notional\n",
       "0  FX emerging markets   EMEA  Yes        Exotic   500000.0\n",
       "1          FX G20 ccys    NaN  YES         Other  1000000.0\n",
       "4     EQ North America    NaN  Yes        Exotic   500000.0"
      ]
     },
     "execution_count": 77,
     "metadata": {},
     "output_type": "execute_result"
    }
   ],
   "source": [
    "# select QIS desks\n",
    "\n",
    "rrao_qis = rrao_df[ (rrao_df['QIS'].str.lower() == 'yes')]\n",
    "rrao_qis"
   ]
  },
  {
   "cell_type": "code",
   "execution_count": 78,
   "id": "8a1addeb",
   "metadata": {},
   "outputs": [],
   "source": [
    "# define rrao_calc() function, based on FRTB section 23.8 specifications for Exotic or other underlyings\n",
    "\n",
    "def rrao_calc(rrao_cat, notional):\n",
    "    if rrao_cat.lower() == 'exotic':\n",
    "        return( notional * 0.01) # Exotic -> 1%\n",
    "    else:\n",
    "        return( notional * 0.001) # other than Exotic -> 0.1%"
   ]
  },
  {
   "cell_type": "code",
   "execution_count": 79,
   "id": "651b517a",
   "metadata": {},
   "outputs": [
    {
     "name": "stderr",
     "output_type": "stream",
     "text": [
      "<ipython-input-79-eb9d37801f0f>:1: SettingWithCopyWarning: \n",
      "A value is trying to be set on a copy of a slice from a DataFrame.\n",
      "Try using .loc[row_indexer,col_indexer] = value instead\n",
      "\n",
      "See the caveats in the documentation: https://pandas.pydata.org/pandas-docs/stable/user_guide/indexing.html#returning-a-view-versus-a-copy\n",
      "  rrao_qis['RRAO CapReq'] = rrao_qis.apply(lambda row: rrao_calc(row['RRAO category'], row['Notional']), axis = 1)\n"
     ]
    }
   ],
   "source": [
    "rrao_qis['RRAO CapReq'] = rrao_qis.apply(lambda row: rrao_calc(row['RRAO category'], row['Notional']), axis = 1)"
   ]
  },
  {
   "cell_type": "code",
   "execution_count": 80,
   "id": "1f3e68d3",
   "metadata": {},
   "outputs": [
    {
     "data": {
      "text/plain": [
       "0    5000.0\n",
       "1    1000.0\n",
       "4    5000.0\n",
       "Name: RRAO CapReq, dtype: float64"
      ]
     },
     "execution_count": 80,
     "metadata": {},
     "output_type": "execute_result"
    }
   ],
   "source": [
    "# check RRAO Capital Requirements calculation\n",
    "\n",
    "rrao_qis['RRAO CapReq']"
   ]
  },
  {
   "cell_type": "code",
   "execution_count": 81,
   "id": "e7553200",
   "metadata": {},
   "outputs": [
    {
     "data": {
      "text/html": [
       "<div>\n",
       "<style scoped>\n",
       "    .dataframe tbody tr th:only-of-type {\n",
       "        vertical-align: middle;\n",
       "    }\n",
       "\n",
       "    .dataframe tbody tr th {\n",
       "        vertical-align: top;\n",
       "    }\n",
       "\n",
       "    .dataframe thead th {\n",
       "        text-align: right;\n",
       "    }\n",
       "</style>\n",
       "<table border=\"1\" class=\"dataframe\">\n",
       "  <thead>\n",
       "    <tr style=\"text-align: right;\">\n",
       "      <th></th>\n",
       "      <th>Desk</th>\n",
       "      <th>Region</th>\n",
       "      <th>QIS</th>\n",
       "      <th>RRAO category</th>\n",
       "      <th>Notional</th>\n",
       "      <th>RRAO CapReq</th>\n",
       "    </tr>\n",
       "  </thead>\n",
       "  <tbody>\n",
       "    <tr>\n",
       "      <th>0</th>\n",
       "      <td>FX emerging markets</td>\n",
       "      <td>EMEA</td>\n",
       "      <td>Yes</td>\n",
       "      <td>Exotic</td>\n",
       "      <td>500000.0</td>\n",
       "      <td>5000.0</td>\n",
       "    </tr>\n",
       "    <tr>\n",
       "      <th>1</th>\n",
       "      <td>FX G20 ccys</td>\n",
       "      <td>NaN</td>\n",
       "      <td>YES</td>\n",
       "      <td>Other</td>\n",
       "      <td>1000000.0</td>\n",
       "      <td>1000.0</td>\n",
       "    </tr>\n",
       "    <tr>\n",
       "      <th>4</th>\n",
       "      <td>EQ North America</td>\n",
       "      <td>NaN</td>\n",
       "      <td>Yes</td>\n",
       "      <td>Exotic</td>\n",
       "      <td>500000.0</td>\n",
       "      <td>5000.0</td>\n",
       "    </tr>\n",
       "  </tbody>\n",
       "</table>\n",
       "</div>"
      ],
      "text/plain": [
       "                  Desk Region  QIS RRAO category   Notional  RRAO CapReq\n",
       "0  FX emerging markets   EMEA  Yes        Exotic   500000.0       5000.0\n",
       "1          FX G20 ccys    NaN  YES         Other  1000000.0       1000.0\n",
       "4     EQ North America    NaN  Yes        Exotic   500000.0       5000.0"
      ]
     },
     "execution_count": 81,
     "metadata": {},
     "output_type": "execute_result"
    }
   ],
   "source": [
    "# print the entire dataframe for QIS desks\n",
    "rrao_qis"
   ]
  },
  {
   "cell_type": "code",
   "execution_count": 82,
   "id": "7b74b91c",
   "metadata": {},
   "outputs": [],
   "source": [
    "# Save results to an Excel file called \"QIS desks RRAO capital\"\n",
    "rrao_qis.to_excel('QIS desks RRAO capital.xlsx')"
   ]
  },
  {
   "cell_type": "code",
   "execution_count": null,
   "id": "6bd2d7ad",
   "metadata": {},
   "outputs": [],
   "source": []
  }
 ],
 "metadata": {
  "kernelspec": {
   "display_name": "Python 3",
   "language": "python",
   "name": "python3"
  },
  "language_info": {
   "codemirror_mode": {
    "name": "ipython",
    "version": 3
   },
   "file_extension": ".py",
   "mimetype": "text/x-python",
   "name": "python",
   "nbconvert_exporter": "python",
   "pygments_lexer": "ipython3",
   "version": "3.8.8"
  }
 },
 "nbformat": 4,
 "nbformat_minor": 5
}
