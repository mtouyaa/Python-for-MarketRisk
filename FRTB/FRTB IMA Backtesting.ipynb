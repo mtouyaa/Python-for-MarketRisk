{
 "cells": [
  {
   "cell_type": "markdown",
   "id": "58c47057",
   "metadata": {},
   "source": [
    "# Mini prj 17: FRTB Backtesting\n",
    "\n",
    "**ASSIGNMENT:** Write code to perform FRTB backtesting. (FRTB - see section 32.4 - 32.5 (1) in the text)\n",
    "\n",
    "**FRTB 32.4:** compare 99% 1day VaR , against each of the actual P&L (APL) and hypothetical P&L (HPL) over the prior \n",
    "12 months"
   ]
  },
  {
   "cell_type": "markdown",
   "id": "595ab12a",
   "metadata": {},
   "source": [
    "Every time the APL or HPL exceeds the 99% 1 day VaR, that counts as a breach.\n",
    "\n",
    "(if HPL or VaR can't be computed one an specific day, it also counts as an outlier)\n",
    "\n",
    "Backtesting zones:\n",
    "\n",
    "    - green: 0 - 4 breaches\n",
    "    - amber: 5 - 9 braches\n",
    "    - red: 10+ breaches\n"
   ]
  },
  {
   "cell_type": "code",
   "execution_count": 3,
   "id": "549a823e",
   "metadata": {},
   "outputs": [],
   "source": [
    "# STEPS\n",
    "# simulate APL & HPL\n",
    "# create table w/ Date, VaR, APL, HPL\n",
    "# if (VaR > APL) or (VaR > HPL):\n",
    "#     BT = Fail\n",
    "# else: BT = Pass\n",
    "\n",
    "# count(BT = Fail)\n",
    "# if count(BT) > "
   ]
  },
  {
   "cell_type": "code",
   "execution_count": 4,
   "id": "d8fbedb9",
   "metadata": {},
   "outputs": [],
   "source": [
    "# let's assume a 1d 99% VaR of -9.22\n",
    "\n",
    "VaR_1d_99p = -9.22"
   ]
  },
  {
   "cell_type": "code",
   "execution_count": 5,
   "id": "5afa237c",
   "metadata": {},
   "outputs": [],
   "source": [
    "import pandas as pd"
   ]
  },
  {
   "cell_type": "code",
   "execution_count": 6,
   "id": "302a6ba6",
   "metadata": {},
   "outputs": [
    {
     "data": {
      "text/html": [
       "<div>\n",
       "<style scoped>\n",
       "    .dataframe tbody tr th:only-of-type {\n",
       "        vertical-align: middle;\n",
       "    }\n",
       "\n",
       "    .dataframe tbody tr th {\n",
       "        vertical-align: top;\n",
       "    }\n",
       "\n",
       "    .dataframe thead th {\n",
       "        text-align: right;\n",
       "    }\n",
       "</style>\n",
       "<table border=\"1\" class=\"dataframe\">\n",
       "  <thead>\n",
       "    <tr style=\"text-align: right;\">\n",
       "      <th></th>\n",
       "      <th>APL</th>\n",
       "      <th>HPL</th>\n",
       "    </tr>\n",
       "  </thead>\n",
       "  <tbody>\n",
       "    <tr>\n",
       "      <th>0</th>\n",
       "      <td>9.918373</td>\n",
       "      <td>3.229113</td>\n",
       "    </tr>\n",
       "    <tr>\n",
       "      <th>1</th>\n",
       "      <td>17.330150</td>\n",
       "      <td>8.455064</td>\n",
       "    </tr>\n",
       "    <tr>\n",
       "      <th>2</th>\n",
       "      <td>1.714974</td>\n",
       "      <td>1.393178</td>\n",
       "    </tr>\n",
       "    <tr>\n",
       "      <th>3</th>\n",
       "      <td>0.494956</td>\n",
       "      <td>5.699217</td>\n",
       "    </tr>\n",
       "    <tr>\n",
       "      <th>4</th>\n",
       "      <td>6.253657</td>\n",
       "      <td>9.700108</td>\n",
       "    </tr>\n",
       "    <tr>\n",
       "      <th>...</th>\n",
       "      <td>...</td>\n",
       "      <td>...</td>\n",
       "    </tr>\n",
       "    <tr>\n",
       "      <th>245</th>\n",
       "      <td>7.167939</td>\n",
       "      <td>1.824321</td>\n",
       "    </tr>\n",
       "    <tr>\n",
       "      <th>246</th>\n",
       "      <td>21.977212</td>\n",
       "      <td>10.459805</td>\n",
       "    </tr>\n",
       "    <tr>\n",
       "      <th>247</th>\n",
       "      <td>1.715611</td>\n",
       "      <td>20.904218</td>\n",
       "    </tr>\n",
       "    <tr>\n",
       "      <th>248</th>\n",
       "      <td>2.636850</td>\n",
       "      <td>9.622727</td>\n",
       "    </tr>\n",
       "    <tr>\n",
       "      <th>249</th>\n",
       "      <td>18.433381</td>\n",
       "      <td>20.720873</td>\n",
       "    </tr>\n",
       "  </tbody>\n",
       "</table>\n",
       "<p>250 rows × 2 columns</p>\n",
       "</div>"
      ],
      "text/plain": [
       "           APL        HPL\n",
       "0     9.918373   3.229113\n",
       "1    17.330150   8.455064\n",
       "2     1.714974   1.393178\n",
       "3     0.494956   5.699217\n",
       "4     6.253657   9.700108\n",
       "..         ...        ...\n",
       "245   7.167939   1.824321\n",
       "246  21.977212  10.459805\n",
       "247   1.715611  20.904218\n",
       "248   2.636850   9.622727\n",
       "249  18.433381  20.720873\n",
       "\n",
       "[250 rows x 2 columns]"
      ]
     },
     "execution_count": 6,
     "metadata": {},
     "output_type": "execute_result"
    }
   ],
   "source": [
    "# import APL & HPL, generated in excel from random numbers, but using the mean and std dev from the VaR's PnL\n",
    "# 250 scenarios / days, to perform Backtesting for one year\n",
    "\n",
    "pnl = pd.read_csv('APL and HPL.txt')\n",
    "pnl"
   ]
  },
  {
   "cell_type": "code",
   "execution_count": 7,
   "id": "21bbbed1",
   "metadata": {},
   "outputs": [],
   "source": [
    "pnl['BT Result'] = pnl.apply( lambda row: (row['APL'] >= VaR_1d_99p) and (row['HPL'] >= VaR_1d_99p), axis = 1 )\n",
    "\n",
    "# if both APL & HPL are equal to or above the VaR threshold, then column BT Result is True\n",
    "# if any APL or HPL is below the VaR, there is a breach."
   ]
  },
  {
   "cell_type": "code",
   "execution_count": 8,
   "id": "0b88c312",
   "metadata": {},
   "outputs": [],
   "source": [
    "# count breaches: BT Result = False\n",
    "bt_breaches = pnl[ pnl['BT Result'] == False ]['BT Result'].count()"
   ]
  },
  {
   "cell_type": "code",
   "execution_count": 9,
   "id": "8d6cd242",
   "metadata": {},
   "outputs": [
    {
     "name": "stdout",
     "output_type": "stream",
     "text": [
      "Backtesting exceptions:  6\n"
     ]
    }
   ],
   "source": [
    "print('Backtesting exceptions: ', bt_breaches)"
   ]
  },
  {
   "cell_type": "code",
   "execution_count": 10,
   "id": "1995ea59",
   "metadata": {},
   "outputs": [],
   "source": [
    "if bt_breaches <= 4:\n",
    "    BT_zone = 'green'\n",
    "elif bt_breaches > 4 & bt_breaches <= 9:\n",
    "    BT_zone = 'amber'\n",
    "else:\n",
    "    BT_zone = 'red'"
   ]
  },
  {
   "cell_type": "code",
   "execution_count": 11,
   "id": "4e65339a",
   "metadata": {},
   "outputs": [
    {
     "name": "stdout",
     "output_type": "stream",
     "text": [
      "Backtesting zone:  amber\n"
     ]
    }
   ],
   "source": [
    "print('Backtesting zone: ', BT_zone)"
   ]
  }
 ],
 "metadata": {
  "kernelspec": {
   "display_name": "Python 3",
   "language": "python",
   "name": "python3"
  },
  "language_info": {
   "codemirror_mode": {
    "name": "ipython",
    "version": 3
   },
   "file_extension": ".py",
   "mimetype": "text/x-python",
   "name": "python",
   "nbconvert_exporter": "python",
   "pygments_lexer": "ipython3",
   "version": "3.8.8"
  }
 },
 "nbformat": 4,
 "nbformat_minor": 5
}
