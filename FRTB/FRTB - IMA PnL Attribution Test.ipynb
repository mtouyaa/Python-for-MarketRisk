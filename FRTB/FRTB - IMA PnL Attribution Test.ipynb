{
 "cells": [
  {
   "cell_type": "markdown",
   "id": "15a7a8d6",
   "metadata": {},
   "source": [
    "# FRTB PLAT: P&L Attribution Test\n",
    "\n",
    "For FRTB IMA, the PLAT consist in comparing the Hypotetical P&L vs the Risk Theoretical P&L, with 2 tests:\n",
    "1. Spearman correlation\n",
    "2. KS (Kolmogorov–Smirnov) test\n",
    "\n",
    "*Notes:* Details of calculations and thresholds: FRTB sections 32.34 - 32.42."
   ]
  },
  {
   "cell_type": "code",
   "execution_count": 1,
   "id": "5b9fc00c",
   "metadata": {},
   "outputs": [],
   "source": [
    "# import required libraries\n",
    "\n",
    "import pandas as pd\n",
    "import math as m\n",
    "import numpy as np\n",
    "import statistics as st"
   ]
  },
  {
   "cell_type": "code",
   "execution_count": 2,
   "id": "6709e175",
   "metadata": {},
   "outputs": [
    {
     "data": {
      "text/html": [
       "<div>\n",
       "<style scoped>\n",
       "    .dataframe tbody tr th:only-of-type {\n",
       "        vertical-align: middle;\n",
       "    }\n",
       "\n",
       "    .dataframe tbody tr th {\n",
       "        vertical-align: top;\n",
       "    }\n",
       "\n",
       "    .dataframe thead th {\n",
       "        text-align: right;\n",
       "    }\n",
       "</style>\n",
       "<table border=\"1\" class=\"dataframe\">\n",
       "  <thead>\n",
       "    <tr style=\"text-align: right;\">\n",
       "      <th></th>\n",
       "      <th>Date</th>\n",
       "      <th>HPL</th>\n",
       "      <th>RTPL</th>\n",
       "    </tr>\n",
       "  </thead>\n",
       "  <tbody>\n",
       "    <tr>\n",
       "      <th>0</th>\n",
       "      <td>23/11/2018</td>\n",
       "      <td>4.982745e+06</td>\n",
       "      <td>9.184258e+05</td>\n",
       "    </tr>\n",
       "    <tr>\n",
       "      <th>1</th>\n",
       "      <td>26/11/2018</td>\n",
       "      <td>3.035737e+06</td>\n",
       "      <td>4.055237e+06</td>\n",
       "    </tr>\n",
       "    <tr>\n",
       "      <th>2</th>\n",
       "      <td>27/11/2018</td>\n",
       "      <td>7.245941e+06</td>\n",
       "      <td>6.336971e+06</td>\n",
       "    </tr>\n",
       "    <tr>\n",
       "      <th>3</th>\n",
       "      <td>28/11/2018</td>\n",
       "      <td>8.727093e+06</td>\n",
       "      <td>6.210057e+06</td>\n",
       "    </tr>\n",
       "    <tr>\n",
       "      <th>4</th>\n",
       "      <td>29/11/2018</td>\n",
       "      <td>6.071703e+06</td>\n",
       "      <td>5.325492e+06</td>\n",
       "    </tr>\n",
       "    <tr>\n",
       "      <th>...</th>\n",
       "      <td>...</td>\n",
       "      <td>...</td>\n",
       "      <td>...</td>\n",
       "    </tr>\n",
       "    <tr>\n",
       "      <th>245</th>\n",
       "      <td>14/11/2019</td>\n",
       "      <td>9.245265e+06</td>\n",
       "      <td>3.061954e+06</td>\n",
       "    </tr>\n",
       "    <tr>\n",
       "      <th>246</th>\n",
       "      <td>15/11/2019</td>\n",
       "      <td>4.586715e+06</td>\n",
       "      <td>5.038695e+06</td>\n",
       "    </tr>\n",
       "    <tr>\n",
       "      <th>247</th>\n",
       "      <td>18/11/2019</td>\n",
       "      <td>9.861234e+05</td>\n",
       "      <td>1.039551e+06</td>\n",
       "    </tr>\n",
       "    <tr>\n",
       "      <th>248</th>\n",
       "      <td>19/11/2019</td>\n",
       "      <td>3.979911e+06</td>\n",
       "      <td>9.767369e+06</td>\n",
       "    </tr>\n",
       "    <tr>\n",
       "      <th>249</th>\n",
       "      <td>20/11/2019</td>\n",
       "      <td>1.891224e+06</td>\n",
       "      <td>7.740798e+06</td>\n",
       "    </tr>\n",
       "  </tbody>\n",
       "</table>\n",
       "<p>250 rows × 3 columns</p>\n",
       "</div>"
      ],
      "text/plain": [
       "           Date           HPL          RTPL\n",
       "0    23/11/2018  4.982745e+06  9.184258e+05\n",
       "1    26/11/2018  3.035737e+06  4.055237e+06\n",
       "2    27/11/2018  7.245941e+06  6.336971e+06\n",
       "3    28/11/2018  8.727093e+06  6.210057e+06\n",
       "4    29/11/2018  6.071703e+06  5.325492e+06\n",
       "..          ...           ...           ...\n",
       "245  14/11/2019  9.245265e+06  3.061954e+06\n",
       "246  15/11/2019  4.586715e+06  5.038695e+06\n",
       "247  18/11/2019  9.861234e+05  1.039551e+06\n",
       "248  19/11/2019  3.979911e+06  9.767369e+06\n",
       "249  20/11/2019  1.891224e+06  7.740798e+06\n",
       "\n",
       "[250 rows x 3 columns]"
      ]
     },
     "execution_count": 2,
     "metadata": {},
     "output_type": "execute_result"
    }
   ],
   "source": [
    "# import import PLAT.csv file into a pandas dataframe\n",
    "plat_ts = pd.read_csv('PLAT.csv')\n",
    "plat_ts"
   ]
  },
  {
   "cell_type": "markdown",
   "id": "ec9df113",
   "metadata": {},
   "source": [
    "# 01. Spearman correlation"
   ]
  },
  {
   "cell_type": "code",
   "execution_count": 3,
   "id": "899af282",
   "metadata": {},
   "outputs": [
    {
     "name": "stdout",
     "output_type": "stream",
     "text": [
      "HPL sorted [2932.573947, 76774.45243, 80483.10113, 94238.9027, 198094.4426]\n",
      "<class 'list'>\n",
      "HPL sorted [7346.963745, 53241.15343, 90431.30126, 176278.9449, 256819.3709]\n",
      "<class 'list'>\n"
     ]
    }
   ],
   "source": [
    "# 2.1 Spearman correlation\n",
    "# 1) Rank\n",
    "# 2) calculate HPL - RTPL covariance\n",
    "# 3) RTPL & HPL std dev\n",
    "\n",
    "\n",
    "# RANK HPL & RTPL\n",
    "\n",
    "hpl = sorted(plat_ts['HPL'])\n",
    "print('HPL sorted', hpl[:5])\n",
    "print(type(hpl))\n",
    "\n",
    "rtpl = sorted(plat_ts['RTPL'])\n",
    "print('HPL sorted', rtpl[:5])\n",
    "print(type(rtpl))"
   ]
  },
  {
   "cell_type": "code",
   "execution_count": 4,
   "id": "7a688238",
   "metadata": {},
   "outputs": [
    {
     "name": "stdout",
     "output_type": "stream",
     "text": [
      "[[8.27988459e+12 8.33207928e+12]\n",
      " [8.33207928e+12 8.42153492e+12]]\n",
      "8332079283730.247\n"
     ]
    }
   ],
   "source": [
    "# Calculate ranked HPL-RTPL covariance\n",
    "cov_matrix = np.cov(hpl, rtpl)\n",
    "print(cov_matrix)\n",
    "\n",
    "cov = cov_matrix[0][1] # CHECK: FIRST VALUE IS OK AS SpearCorr\n",
    "print(cov)"
   ]
  },
  {
   "cell_type": "code",
   "execution_count": 5,
   "id": "f48548cc",
   "metadata": {},
   "outputs": [
    {
     "name": "stdout",
     "output_type": "stream",
     "text": [
      "2877478.859851963\n",
      "2901988.0982226394\n"
     ]
    }
   ],
   "source": [
    "# HPL & RTPL standard deviation\n",
    "hpl_stdev = st.stdev(hpl)\n",
    "print(hpl_stdev)\n",
    "\n",
    "rtpl_stdev = st.stdev(rtpl)\n",
    "print(rtpl_stdev)"
   ]
  },
  {
   "cell_type": "code",
   "execution_count": 6,
   "id": "8ab3c9dc",
   "metadata": {},
   "outputs": [
    {
     "name": "stdout",
     "output_type": "stream",
     "text": [
      "Spearman coef is 0.998\n"
     ]
    }
   ],
   "source": [
    "# Spearman coef = Covariance(HPL, RTPL) / ( StDev(HPL) * StDev(RTPL) )\n",
    "\n",
    "Sp_coef = cov / ( hpl_stdev * rtpl_stdev)\n",
    "print('Spearman coef is', round(Sp_coef, 3) )\n"
   ]
  },
  {
   "cell_type": "code",
   "execution_count": 7,
   "id": "04aac4ab",
   "metadata": {},
   "outputs": [
    {
     "name": "stdout",
     "output_type": "stream",
     "text": [
      "Spearman coef with stats package is 0.9999999999999998\n"
     ]
    }
   ],
   "source": [
    "# stats library from scipy returns a similar value\n",
    "from scipy import stats\n",
    "Sp_coef_stats = stats.spearmanr(hpl, rtpl)[0]\n",
    "\n",
    "print('Spearman coef with stats package is', Sp_coef_stats )"
   ]
  },
  {
   "cell_type": "markdown",
   "id": "e78be51c",
   "metadata": {},
   "source": [
    "# 02. KS test"
   ]
  },
  {
   "cell_type": "code",
   "execution_count": 8,
   "id": "108eec06",
   "metadata": {},
   "outputs": [],
   "source": [
    "# import normlibrary from scipy.stats to calculate empirical cumulative distribution function\n",
    "\n",
    "from scipy.stats import norm"
   ]
  },
  {
   "cell_type": "code",
   "execution_count": 9,
   "id": "0f304ac4",
   "metadata": {},
   "outputs": [
    {
     "name": "stdout",
     "output_type": "stream",
     "text": [
      "HPL mean is 4964451.925241228\n",
      "RTPL mean is 5320435.69198734\n"
     ]
    }
   ],
   "source": [
    "# calculate HPL & RTPL means\n",
    "\n",
    "mean_hpl = st.mean(hpl)\n",
    "print('HPL mean is', mean_hpl)\n",
    "\n",
    "mean_rtpl = st.mean(rtpl)\n",
    "print('RTPL mean is', mean_rtpl)"
   ]
  },
  {
   "cell_type": "code",
   "execution_count": 10,
   "id": "b21a8f1a",
   "metadata": {},
   "outputs": [
    {
     "data": {
      "text/html": [
       "<div>\n",
       "<style scoped>\n",
       "    .dataframe tbody tr th:only-of-type {\n",
       "        vertical-align: middle;\n",
       "    }\n",
       "\n",
       "    .dataframe tbody tr th {\n",
       "        vertical-align: top;\n",
       "    }\n",
       "\n",
       "    .dataframe thead th {\n",
       "        text-align: right;\n",
       "    }\n",
       "</style>\n",
       "<table border=\"1\" class=\"dataframe\">\n",
       "  <thead>\n",
       "    <tr style=\"text-align: right;\">\n",
       "      <th></th>\n",
       "      <th>HPL</th>\n",
       "      <th>RTPL</th>\n",
       "    </tr>\n",
       "  </thead>\n",
       "  <tbody>\n",
       "    <tr>\n",
       "      <th>0</th>\n",
       "      <td>2.932574e+03</td>\n",
       "      <td>7.346964e+03</td>\n",
       "    </tr>\n",
       "    <tr>\n",
       "      <th>1</th>\n",
       "      <td>7.677445e+04</td>\n",
       "      <td>5.324115e+04</td>\n",
       "    </tr>\n",
       "    <tr>\n",
       "      <th>2</th>\n",
       "      <td>8.048310e+04</td>\n",
       "      <td>9.043130e+04</td>\n",
       "    </tr>\n",
       "    <tr>\n",
       "      <th>3</th>\n",
       "      <td>9.423890e+04</td>\n",
       "      <td>1.762789e+05</td>\n",
       "    </tr>\n",
       "    <tr>\n",
       "      <th>4</th>\n",
       "      <td>1.980944e+05</td>\n",
       "      <td>2.568194e+05</td>\n",
       "    </tr>\n",
       "    <tr>\n",
       "      <th>...</th>\n",
       "      <td>...</td>\n",
       "      <td>...</td>\n",
       "    </tr>\n",
       "    <tr>\n",
       "      <th>245</th>\n",
       "      <td>9.822712e+06</td>\n",
       "      <td>9.841759e+06</td>\n",
       "    </tr>\n",
       "    <tr>\n",
       "      <th>246</th>\n",
       "      <td>9.838982e+06</td>\n",
       "      <td>9.931843e+06</td>\n",
       "    </tr>\n",
       "    <tr>\n",
       "      <th>247</th>\n",
       "      <td>9.894501e+06</td>\n",
       "      <td>9.976193e+06</td>\n",
       "    </tr>\n",
       "    <tr>\n",
       "      <th>248</th>\n",
       "      <td>9.932360e+06</td>\n",
       "      <td>9.989574e+06</td>\n",
       "    </tr>\n",
       "    <tr>\n",
       "      <th>249</th>\n",
       "      <td>9.941769e+06</td>\n",
       "      <td>9.998763e+06</td>\n",
       "    </tr>\n",
       "  </tbody>\n",
       "</table>\n",
       "<p>250 rows × 2 columns</p>\n",
       "</div>"
      ],
      "text/plain": [
       "              HPL          RTPL\n",
       "0    2.932574e+03  7.346964e+03\n",
       "1    7.677445e+04  5.324115e+04\n",
       "2    8.048310e+04  9.043130e+04\n",
       "3    9.423890e+04  1.762789e+05\n",
       "4    1.980944e+05  2.568194e+05\n",
       "..            ...           ...\n",
       "245  9.822712e+06  9.841759e+06\n",
       "246  9.838982e+06  9.931843e+06\n",
       "247  9.894501e+06  9.976193e+06\n",
       "248  9.932360e+06  9.989574e+06\n",
       "249  9.941769e+06  9.998763e+06\n",
       "\n",
       "[250 rows x 2 columns]"
      ]
     },
     "execution_count": 10,
     "metadata": {},
     "output_type": "execute_result"
    }
   ],
   "source": [
    "# create new dataframde with ordered HPL & RTPL values\n",
    "KS_df = pd.DataFrame( {'HPL': hpl, 'RTPL': rtpl })\n",
    "KS_df"
   ]
  },
  {
   "cell_type": "code",
   "execution_count": 11,
   "id": "87a671fa",
   "metadata": {},
   "outputs": [
    {
     "data": {
      "text/html": [
       "<div>\n",
       "<style scoped>\n",
       "    .dataframe tbody tr th:only-of-type {\n",
       "        vertical-align: middle;\n",
       "    }\n",
       "\n",
       "    .dataframe tbody tr th {\n",
       "        vertical-align: top;\n",
       "    }\n",
       "\n",
       "    .dataframe thead th {\n",
       "        text-align: right;\n",
       "    }\n",
       "</style>\n",
       "<table border=\"1\" class=\"dataframe\">\n",
       "  <thead>\n",
       "    <tr style=\"text-align: right;\">\n",
       "      <th></th>\n",
       "      <th>HPL</th>\n",
       "      <th>RTPL</th>\n",
       "      <th>HPL_ECDF</th>\n",
       "      <th>RTPL_ECDF</th>\n",
       "    </tr>\n",
       "  </thead>\n",
       "  <tbody>\n",
       "    <tr>\n",
       "      <th>0</th>\n",
       "      <td>2.932574e+03</td>\n",
       "      <td>7.346964e+03</td>\n",
       "      <td>0.042331</td>\n",
       "      <td>0.033562</td>\n",
       "    </tr>\n",
       "    <tr>\n",
       "      <th>1</th>\n",
       "      <td>7.677445e+04</td>\n",
       "      <td>5.324115e+04</td>\n",
       "      <td>0.044698</td>\n",
       "      <td>0.034760</td>\n",
       "    </tr>\n",
       "    <tr>\n",
       "      <th>2</th>\n",
       "      <td>8.048310e+04</td>\n",
       "      <td>9.043130e+04</td>\n",
       "      <td>0.044819</td>\n",
       "      <td>0.035756</td>\n",
       "    </tr>\n",
       "    <tr>\n",
       "      <th>3</th>\n",
       "      <td>9.423890e+04</td>\n",
       "      <td>1.762789e+05</td>\n",
       "      <td>0.045273</td>\n",
       "      <td>0.038145</td>\n",
       "    </tr>\n",
       "    <tr>\n",
       "      <th>4</th>\n",
       "      <td>1.980944e+05</td>\n",
       "      <td>2.568194e+05</td>\n",
       "      <td>0.048817</td>\n",
       "      <td>0.040503</td>\n",
       "    </tr>\n",
       "    <tr>\n",
       "      <th>...</th>\n",
       "      <td>...</td>\n",
       "      <td>...</td>\n",
       "      <td>...</td>\n",
       "      <td>...</td>\n",
       "    </tr>\n",
       "    <tr>\n",
       "      <th>245</th>\n",
       "      <td>9.822712e+06</td>\n",
       "      <td>9.841759e+06</td>\n",
       "      <td>0.954330</td>\n",
       "      <td>0.940384</td>\n",
       "    </tr>\n",
       "    <tr>\n",
       "      <th>246</th>\n",
       "      <td>9.838982e+06</td>\n",
       "      <td>9.931843e+06</td>\n",
       "      <td>0.954870</td>\n",
       "      <td>0.943976</td>\n",
       "    </tr>\n",
       "    <tr>\n",
       "      <th>247</th>\n",
       "      <td>9.894501e+06</td>\n",
       "      <td>9.976193e+06</td>\n",
       "      <td>0.956673</td>\n",
       "      <td>0.945680</td>\n",
       "    </tr>\n",
       "    <tr>\n",
       "      <th>248</th>\n",
       "      <td>9.932360e+06</td>\n",
       "      <td>9.989574e+06</td>\n",
       "      <td>0.957869</td>\n",
       "      <td>0.946186</td>\n",
       "    </tr>\n",
       "    <tr>\n",
       "      <th>249</th>\n",
       "      <td>9.941769e+06</td>\n",
       "      <td>9.998763e+06</td>\n",
       "      <td>0.958162</td>\n",
       "      <td>0.946531</td>\n",
       "    </tr>\n",
       "  </tbody>\n",
       "</table>\n",
       "<p>250 rows × 4 columns</p>\n",
       "</div>"
      ],
      "text/plain": [
       "              HPL          RTPL  HPL_ECDF  RTPL_ECDF\n",
       "0    2.932574e+03  7.346964e+03  0.042331   0.033562\n",
       "1    7.677445e+04  5.324115e+04  0.044698   0.034760\n",
       "2    8.048310e+04  9.043130e+04  0.044819   0.035756\n",
       "3    9.423890e+04  1.762789e+05  0.045273   0.038145\n",
       "4    1.980944e+05  2.568194e+05  0.048817   0.040503\n",
       "..            ...           ...       ...        ...\n",
       "245  9.822712e+06  9.841759e+06  0.954330   0.940384\n",
       "246  9.838982e+06  9.931843e+06  0.954870   0.943976\n",
       "247  9.894501e+06  9.976193e+06  0.956673   0.945680\n",
       "248  9.932360e+06  9.989574e+06  0.957869   0.946186\n",
       "249  9.941769e+06  9.998763e+06  0.958162   0.946531\n",
       "\n",
       "[250 rows x 4 columns]"
      ]
     },
     "execution_count": 11,
     "metadata": {},
     "output_type": "execute_result"
    }
   ],
   "source": [
    "# calculate the empirical cumulative distribution function for every PnL value \n",
    "\n",
    "KS_df['HPL_ECDF'] = norm.cdf(hpl, mean_hpl, hpl_stdev)\n",
    "KS_df['RTPL_ECDF'] = norm.cdf(rtpl, mean_rtpl, rtpl_stdev)\n",
    "KS_df"
   ]
  },
  {
   "cell_type": "code",
   "execution_count": 12,
   "id": "7586dc80",
   "metadata": {},
   "outputs": [
    {
     "name": "stdout",
     "output_type": "stream",
     "text": [
      "Kolmogorov-Ssmirnov test metric is 0.05522747889421531\n"
     ]
    }
   ],
   "source": [
    "# calculate KS coef: maximum absolute difference of HPL & RTPL empirical cumulative distribution functions\n",
    "\n",
    "KS_test = max( abs( KS_df['HPL_ECDF'] - KS_df['RTPL_ECDF'] ) )\n",
    "print('Kolmogorov-Ssmirnov test metric is', KS_test)"
   ]
  },
  {
   "cell_type": "markdown",
   "id": "666f97f0",
   "metadata": {},
   "source": [
    "# PLAT color zone\n",
    "\n",
    "Determine the PLAT color zone (FRTB - see sections 32.34 - 32.42 in the text)"
   ]
  },
  {
   "cell_type": "code",
   "execution_count": 13,
   "id": "f095963a",
   "metadata": {},
   "outputs": [],
   "source": [
    "# Determine PLAT color zone"
   ]
  },
  {
   "cell_type": "code",
   "execution_count": 14,
   "id": "9a925b7d",
   "metadata": {},
   "outputs": [],
   "source": [
    "# green\n",
    "# - Spearman coef > 0.8, or\n",
    "# - KS < 0.09\n",
    "\n",
    "# red zone:\n",
    "# - Spearman coef < 0.7, or\n",
    "# - KS > 0.12\n",
    "\n",
    "# amber\n",
    "# - Spearman coef =< 0.8, or\n",
    "# - KS > 0.09\n"
   ]
  },
  {
   "cell_type": "code",
   "execution_count": 15,
   "id": "9b398e92",
   "metadata": {},
   "outputs": [],
   "source": [
    "if (Sp_coef > 0.8) & (KS_test < 0.09):\n",
    "    PLAT_zone = 'green'\n",
    "elif (Sp_coef < 0.7) or (KS_test > 0.12):\n",
    "    PLAT_zone = 'red'\n",
    "else:\n",
    "    PLAT_zone = 'amber'"
   ]
  },
  {
   "cell_type": "code",
   "execution_count": 16,
   "id": "0469d34d",
   "metadata": {},
   "outputs": [
    {
     "name": "stdout",
     "output_type": "stream",
     "text": [
      "PLAT zone is: green\n"
     ]
    }
   ],
   "source": [
    "print('PLAT zone is:', PLAT_zone)"
   ]
  }
 ],
 "metadata": {
  "kernelspec": {
   "display_name": "Python 3",
   "language": "python",
   "name": "python3"
  },
  "language_info": {
   "codemirror_mode": {
    "name": "ipython",
    "version": 3
   },
   "file_extension": ".py",
   "mimetype": "text/x-python",
   "name": "python",
   "nbconvert_exporter": "python",
   "pygments_lexer": "ipython3",
   "version": "3.8.8"
  }
 },
 "nbformat": 4,
 "nbformat_minor": 5
}
