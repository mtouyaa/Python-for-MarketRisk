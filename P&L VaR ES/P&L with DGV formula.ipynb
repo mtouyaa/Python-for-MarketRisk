{
 "cells": [
  {
   "cell_type": "markdown",
   "id": "6e1cee6f",
   "metadata": {},
   "source": [
    "# DGV PnL\n",
    "\n",
    "**ASSIGNMENT:** compute the October 21 scenario 1-day DGV PnL (using proportional returns) using data in the Taylor tab.\n",
    "    \n",
    "*Input data:* Delta is 0.4, gamma is 0.02 and vega is 10"
   ]
  },
  {
   "cell_type": "code",
   "execution_count": 1,
   "id": "2a68e5e9",
   "metadata": {},
   "outputs": [],
   "source": [
    "# load DGV values\n",
    "\n",
    "delta = 0.4\n",
    "gamma = 0.02\n",
    "vega = 10"
   ]
  },
  {
   "cell_type": "code",
   "execution_count": 2,
   "id": "52bdd949",
   "metadata": {},
   "outputs": [
    {
     "data": {
      "text/html": [
       "<div>\n",
       "<style scoped>\n",
       "    .dataframe tbody tr th:only-of-type {\n",
       "        vertical-align: middle;\n",
       "    }\n",
       "\n",
       "    .dataframe tbody tr th {\n",
       "        vertical-align: top;\n",
       "    }\n",
       "\n",
       "    .dataframe thead th {\n",
       "        text-align: right;\n",
       "    }\n",
       "</style>\n",
       "<table border=\"1\" class=\"dataframe\">\n",
       "  <thead>\n",
       "    <tr style=\"text-align: right;\">\n",
       "      <th></th>\n",
       "      <th>Date</th>\n",
       "      <th>Close Price</th>\n",
       "      <th>Implied vol</th>\n",
       "    </tr>\n",
       "  </thead>\n",
       "  <tbody>\n",
       "    <tr>\n",
       "      <th>0</th>\n",
       "      <td>22/10/2015</td>\n",
       "      <td>144.089996</td>\n",
       "      <td>2.00</td>\n",
       "    </tr>\n",
       "    <tr>\n",
       "      <th>1</th>\n",
       "      <td>21/10/2015</td>\n",
       "      <td>140.919998</td>\n",
       "      <td>2.10</td>\n",
       "    </tr>\n",
       "    <tr>\n",
       "      <th>2</th>\n",
       "      <td>20/10/2015</td>\n",
       "      <td>140.639999</td>\n",
       "      <td>2.20</td>\n",
       "    </tr>\n",
       "    <tr>\n",
       "      <th>3</th>\n",
       "      <td>19/10/2015</td>\n",
       "      <td>149.220001</td>\n",
       "      <td>2.20</td>\n",
       "    </tr>\n",
       "    <tr>\n",
       "      <th>4</th>\n",
       "      <td>16/10/2015</td>\n",
       "      <td>150.389999</td>\n",
       "      <td>2.19</td>\n",
       "    </tr>\n",
       "    <tr>\n",
       "      <th>5</th>\n",
       "      <td>15/10/2015</td>\n",
       "      <td>150.089996</td>\n",
       "      <td>2.18</td>\n",
       "    </tr>\n",
       "    <tr>\n",
       "      <th>6</th>\n",
       "      <td>14/10/2015</td>\n",
       "      <td>150.009995</td>\n",
       "      <td>2.60</td>\n",
       "    </tr>\n",
       "    <tr>\n",
       "      <th>7</th>\n",
       "      <td>13/10/2015</td>\n",
       "      <td>149.619995</td>\n",
       "      <td>2.60</td>\n",
       "    </tr>\n",
       "  </tbody>\n",
       "</table>\n",
       "</div>"
      ],
      "text/plain": [
       "         Date  Close Price  Implied vol\n",
       "0  22/10/2015   144.089996         2.00\n",
       "1  21/10/2015   140.919998         2.10\n",
       "2  20/10/2015   140.639999         2.20\n",
       "3  19/10/2015   149.220001         2.20\n",
       "4  16/10/2015   150.389999         2.19\n",
       "5  15/10/2015   150.089996         2.18\n",
       "6  14/10/2015   150.009995         2.60\n",
       "7  13/10/2015   149.619995         2.60"
      ]
     },
     "execution_count": 2,
     "metadata": {},
     "output_type": "execute_result"
    }
   ],
   "source": [
    "# import pandas and load data\n",
    "\n",
    "import pandas as pd\n",
    "\n",
    "dgv_ts = pd.read_csv('DGV.csv')\n",
    "\n",
    "dgv_ts"
   ]
  },
  {
   "cell_type": "code",
   "execution_count": 3,
   "id": "d5116c74",
   "metadata": {},
   "outputs": [
    {
     "data": {
      "text/plain": [
       "Date            object\n",
       "Close Price    float64\n",
       "Implied vol    float64\n",
       "dtype: object"
      ]
     },
     "execution_count": 3,
     "metadata": {},
     "output_type": "execute_result"
    }
   ],
   "source": [
    "# review data types\n",
    "\n",
    "dgv_ts.dtypes"
   ]
  },
  {
   "cell_type": "code",
   "execution_count": 5,
   "id": "345b5de5",
   "metadata": {},
   "outputs": [],
   "source": [
    "# in this case the timeseries is already ordered by Date, else, it should have been ordered."
   ]
  },
  {
   "cell_type": "code",
   "execution_count": 4,
   "id": "06164eca",
   "metadata": {},
   "outputs": [
    {
     "name": "stdout",
     "output_type": "stream",
     "text": [
      "1\n",
      "1    21/10/2015\n",
      "Name: Date, dtype: object\n",
      "1    140.919998\n",
      "Name: Close Price, dtype: float64\n",
      "1    2.1\n",
      "Name: Implied vol, dtype: float64\n"
     ]
    }
   ],
   "source": [
    "# Define date for the one the PnL needs to be calculated\n",
    "# assign date, price and vol for t0\n",
    "\n",
    "date = '21/10/2015'\n",
    "\n",
    "date_row = dgv_ts[ dgv_ts['Date'] == date ].index[0]\n",
    "print(date_row)\n",
    "\n",
    "date_t0 = dgv_ts[ dgv_ts['Date'] == date ].iloc[:, 0]\n",
    "print(date_t0)\n",
    "\n",
    "price_t0 = dgv_ts[ dgv_ts['Date'] == date ].iloc[:, 1]\n",
    "print(price_t0)\n",
    "\n",
    "vol_t0 = dgv_ts[ dgv_ts['Date'] == date ].iloc[:, 2]\n",
    "print(vol_t0)"
   ]
  },
  {
   "cell_type": "code",
   "execution_count": 27,
   "id": "7dc2da77",
   "metadata": {},
   "outputs": [
    {
     "name": "stdout",
     "output_type": "stream",
     "text": [
      "Date (t0)  21/10/2015 is in row 1\n",
      "21/10/2015\n",
      "Price at t0 is 140.919998\n",
      "Vol at t0 is 2.1\n"
     ]
    }
   ],
   "source": [
    "# Define date for the one the PnL needs to be calculated\n",
    "# assign date, price and vol for t0\n",
    "\n",
    "date = '21/10/2015'\n",
    "\n",
    "date_row = dgv_ts[ dgv_ts['Date'] == date ].index[0]\n",
    "print('Date (t0) ',date, 'is in row', date_row)\n",
    "\n",
    "date_t0 = dgv_ts[ dgv_ts['Date'] == date ].iloc[ 0 , 0]\n",
    "print(date_t0)\n",
    "\n",
    "price_t0 = dgv_ts[ dgv_ts['Date'] == date ].iloc[:, 1]\n",
    "print('Price at t0 is' , float(price_t0))\n",
    "\n",
    "vol_t0 = dgv_ts[ dgv_ts['Date'] == date ].iloc[:, 2]\n",
    "print('Vol at t0 is', float(vol_t0))"
   ]
  },
  {
   "cell_type": "code",
   "execution_count": 30,
   "id": "ffc7d593",
   "metadata": {},
   "outputs": [
    {
     "name": "stdout",
     "output_type": "stream",
     "text": [
      "Date t1 is 22/10/2015\n",
      "Price at t1 is 144.089996\n",
      "Vol at t1 is 2.0\n"
     ]
    }
   ],
   "source": [
    "# assign date, price and vol for t1\n",
    "\n",
    "date_t1 = dgv_ts.iloc[date_row-1, 0]\n",
    "print('Date t1 is', date_t1)\n",
    "\n",
    "price_t1 = dgv_ts.iloc[date_row-1, 1]\n",
    "print('Price at t1 is' , float(price_t1))\n",
    "\n",
    "vol_t1 = dgv_ts.iloc[date_row-1, 2]\n",
    "print('Vol at t1 is', float(vol_t1))\n",
    "\n"
   ]
  },
  {
   "cell_type": "code",
   "execution_count": 31,
   "id": "3e7c2095",
   "metadata": {},
   "outputs": [],
   "source": [
    "# define dgv_pnl function from Taylor Series\n",
    "\n",
    "def dgv_pnl(delta, gamma, vega, price_t0, price_t1, vol_t0, vol_t1):\n",
    "    price_change = (price_t1 - price_t0) / price_t0\n",
    "    vol_change = (vol_t1 - vol_t0) / vol_t0\n",
    "    pnl = delta*price_change + gamma*(price_change**2) + vega*vol_change\n",
    "    return(float(pnl))"
   ]
  },
  {
   "cell_type": "code",
   "execution_count": 32,
   "id": "49abcc3b",
   "metadata": {},
   "outputs": [
    {
     "name": "stdout",
     "output_type": "stream",
     "text": [
      "PnL for 21/10/2015 with DGV is -0.4672\n"
     ]
    }
   ],
   "source": [
    "# calculate DGV PnL\n",
    "\n",
    "pnl = dgv_pnl(delta, gamma, vega, price_t0, price_t1, vol_t0, vol_t1)\n",
    "\n",
    "print('PnL for', date, 'with DGV is', round(pnl, 4))"
   ]
  }
 ],
 "metadata": {
  "kernelspec": {
   "display_name": "Python 3",
   "language": "python",
   "name": "python3"
  },
  "language_info": {
   "codemirror_mode": {
    "name": "ipython",
    "version": 3
   },
   "file_extension": ".py",
   "mimetype": "text/x-python",
   "name": "python",
   "nbconvert_exporter": "python",
   "pygments_lexer": "ipython3",
   "version": "3.8.8"
  }
 },
 "nbformat": 4,
 "nbformat_minor": 5
}
