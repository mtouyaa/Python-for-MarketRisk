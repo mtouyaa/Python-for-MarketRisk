{
 "cells": [
  {
   "cell_type": "code",
   "execution_count": 72,
   "id": "9fbd943b",
   "metadata": {},
   "outputs": [],
   "source": [
    "# Calculate the forward rate for the nth year"
   ]
  },
  {
   "cell_type": "code",
   "execution_count": 73,
   "id": "d5cfd1c5",
   "metadata": {},
   "outputs": [],
   "source": [
    "import pandas as pd"
   ]
  },
  {
   "cell_type": "code",
   "execution_count": 74,
   "id": "94168283",
   "metadata": {},
   "outputs": [],
   "source": [
    "# reading csv into pandas DataFrame\n",
    "fwr_rates = pd.read_csv('Forward_rates.csv')"
   ]
  },
  {
   "cell_type": "code",
   "execution_count": 75,
   "id": "fb405497",
   "metadata": {},
   "outputs": [
    {
     "data": {
      "text/html": [
       "<div>\n",
       "<style scoped>\n",
       "    .dataframe tbody tr th:only-of-type {\n",
       "        vertical-align: middle;\n",
       "    }\n",
       "\n",
       "    .dataframe tbody tr th {\n",
       "        vertical-align: top;\n",
       "    }\n",
       "\n",
       "    .dataframe thead th {\n",
       "        text-align: right;\n",
       "    }\n",
       "</style>\n",
       "<table border=\"1\" class=\"dataframe\">\n",
       "  <thead>\n",
       "    <tr style=\"text-align: right;\">\n",
       "      <th></th>\n",
       "      <th>Year</th>\n",
       "      <th>Zero_rate</th>\n",
       "    </tr>\n",
       "  </thead>\n",
       "  <tbody>\n",
       "    <tr>\n",
       "      <th>0</th>\n",
       "      <td>1</td>\n",
       "      <td>3.0</td>\n",
       "    </tr>\n",
       "    <tr>\n",
       "      <th>1</th>\n",
       "      <td>2</td>\n",
       "      <td>4.0</td>\n",
       "    </tr>\n",
       "    <tr>\n",
       "      <th>2</th>\n",
       "      <td>3</td>\n",
       "      <td>4.6</td>\n",
       "    </tr>\n",
       "    <tr>\n",
       "      <th>3</th>\n",
       "      <td>4</td>\n",
       "      <td>5.0</td>\n",
       "    </tr>\n",
       "    <tr>\n",
       "      <th>4</th>\n",
       "      <td>5</td>\n",
       "      <td>5.3</td>\n",
       "    </tr>\n",
       "  </tbody>\n",
       "</table>\n",
       "</div>"
      ],
      "text/plain": [
       "   Year  Zero_rate\n",
       "0     1        3.0\n",
       "1     2        4.0\n",
       "2     3        4.6\n",
       "3     4        5.0\n",
       "4     5        5.3"
      ]
     },
     "execution_count": 75,
     "metadata": {},
     "output_type": "execute_result"
    }
   ],
   "source": [
    "# checking Forward Rates\n",
    "fwr_rates"
   ]
  },
  {
   "cell_type": "code",
   "execution_count": 76,
   "id": "45d0ce0c",
   "metadata": {},
   "outputs": [],
   "source": [
    "# define the function to calculate the forward rate:\n",
    "\n",
    "def forward_date(R1, R2, T1, T2):\n",
    "    Rf = R2 + (R2-R1) * ( T1 / (T2-T1) )\n",
    "    return Rf"
   ]
  },
  {
   "cell_type": "code",
   "execution_count": 77,
   "id": "cade38fd",
   "metadata": {},
   "outputs": [],
   "source": [
    "# setting initial Forward rates as zero (float)\n",
    "fwr_rates['Fwd_rate'] = 0.0"
   ]
  },
  {
   "cell_type": "code",
   "execution_count": 78,
   "id": "79a5005c",
   "metadata": {},
   "outputs": [],
   "source": [
    "for n in range(1, fwr_rates.shape[0]):\n",
    "    \n",
    "    R1 = fwr_rates.loc[n-1, 'Zero_rate']\n",
    "    R2 = fwr_rates.loc[n, 'Zero_rate']\n",
    "    T1 = fwr_rates.loc[n-1, 'Year']\n",
    "    T2 = fwr_rates.loc[n, 'Year']\n",
    "    \n",
    "    f_rate = forward_date(R1, R2, T1, T2)\n",
    "    \n",
    "    fwr_rates.loc[n, 'Fwd_rate'] = f_rate"
   ]
  },
  {
   "cell_type": "code",
   "execution_count": 79,
   "id": "82528871",
   "metadata": {},
   "outputs": [
    {
     "data": {
      "text/html": [
       "<div>\n",
       "<style scoped>\n",
       "    .dataframe tbody tr th:only-of-type {\n",
       "        vertical-align: middle;\n",
       "    }\n",
       "\n",
       "    .dataframe tbody tr th {\n",
       "        vertical-align: top;\n",
       "    }\n",
       "\n",
       "    .dataframe thead th {\n",
       "        text-align: right;\n",
       "    }\n",
       "</style>\n",
       "<table border=\"1\" class=\"dataframe\">\n",
       "  <thead>\n",
       "    <tr style=\"text-align: right;\">\n",
       "      <th></th>\n",
       "      <th>Year</th>\n",
       "      <th>Zero_rate</th>\n",
       "      <th>Fwd_rate</th>\n",
       "    </tr>\n",
       "  </thead>\n",
       "  <tbody>\n",
       "    <tr>\n",
       "      <th>0</th>\n",
       "      <td>1</td>\n",
       "      <td>3.0</td>\n",
       "      <td>0.0</td>\n",
       "    </tr>\n",
       "    <tr>\n",
       "      <th>1</th>\n",
       "      <td>2</td>\n",
       "      <td>4.0</td>\n",
       "      <td>5.0</td>\n",
       "    </tr>\n",
       "    <tr>\n",
       "      <th>2</th>\n",
       "      <td>3</td>\n",
       "      <td>4.6</td>\n",
       "      <td>5.8</td>\n",
       "    </tr>\n",
       "    <tr>\n",
       "      <th>3</th>\n",
       "      <td>4</td>\n",
       "      <td>5.0</td>\n",
       "      <td>6.2</td>\n",
       "    </tr>\n",
       "    <tr>\n",
       "      <th>4</th>\n",
       "      <td>5</td>\n",
       "      <td>5.3</td>\n",
       "      <td>6.5</td>\n",
       "    </tr>\n",
       "  </tbody>\n",
       "</table>\n",
       "</div>"
      ],
      "text/plain": [
       "   Year  Zero_rate  Fwd_rate\n",
       "0     1        3.0       0.0\n",
       "1     2        4.0       5.0\n",
       "2     3        4.6       5.8\n",
       "3     4        5.0       6.2\n",
       "4     5        5.3       6.5"
      ]
     },
     "execution_count": 79,
     "metadata": {},
     "output_type": "execute_result"
    }
   ],
   "source": [
    "fwr_rates"
   ]
  },
  {
   "cell_type": "code",
   "execution_count": 80,
   "id": "31c04928",
   "metadata": {},
   "outputs": [],
   "source": [
    "# Source: \"Options, Futures and other Derivatives\", John Hull, Global Edition, 2018"
   ]
  }
 ],
 "metadata": {
  "kernelspec": {
   "display_name": "Python 3",
   "language": "python",
   "name": "python3"
  },
  "language_info": {
   "codemirror_mode": {
    "name": "ipython",
    "version": 3
   },
   "file_extension": ".py",
   "mimetype": "text/x-python",
   "name": "python",
   "nbconvert_exporter": "python",
   "pygments_lexer": "ipython3",
   "version": "3.8.8"
  }
 },
 "nbformat": 4,
 "nbformat_minor": 5
}
