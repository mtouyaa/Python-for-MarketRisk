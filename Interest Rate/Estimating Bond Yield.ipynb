{
 "cells": [
  {
   "cell_type": "markdown",
   "id": "7d756836",
   "metadata": {},
   "source": [
    "# Bond yield\n",
    "\n",
    "*Source: * \"Options, Futures, and Other Derivatives\", Prof. John Hull, Pearson, 2018.\n",
    "\n",
    "\"Bond yield is the discount rate that, when applied to all cash flows, gives a bond price equal to its market price."
   ]
  },
  {
   "cell_type": "markdown",
   "id": "ca564946",
   "metadata": {},
   "source": [
    "The mathematical problem to solve here is an equation, where the same variable to be estimated (the rate), is located in multiple exponents.\n",
    "\n",
    "We'll apply an iterative process of trial an error to get to the bond yield, defining a decimal precision."
   ]
  },
  {
   "cell_type": "code",
   "execution_count": 1,
   "id": "69e62300",
   "metadata": {},
   "outputs": [],
   "source": [
    "# Let's get started by defining the input variables\n",
    "\n",
    "ppal = 100\n",
    "coupon_annual = 0.06\n",
    "coupons_peryear = 2\n",
    "term = 2\n",
    "bond_price = 98.39"
   ]
  },
  {
   "cell_type": "code",
   "execution_count": 2,
   "id": "ec6ae45a",
   "metadata": {},
   "outputs": [],
   "source": [
    "# importing libraries needed\n",
    "\n",
    "import numpy as np\n",
    "import math as m"
   ]
  },
  {
   "cell_type": "code",
   "execution_count": 3,
   "id": "55d19167",
   "metadata": {},
   "outputs": [
    {
     "name": "stdout",
     "output_type": "stream",
     "text": [
      "Initial test rate is 0.5\n"
     ]
    }
   ],
   "source": [
    "# Let's define the limits as maximun and minimun rate to iterate\n",
    "min_estimate = 0\n",
    "max_estimate = 1\n",
    "test_rate = (min_estimate + max_estimate) / 2\n",
    "\n",
    "\n",
    "\n",
    "# initiate end_value: sum of discounted cash flows\n",
    "end_value = 0\n",
    "\n",
    "# initiate count of iterations\n",
    "count = 0\n",
    "\n",
    "# initiate diff: diff of end_value vs bond_price\n",
    "diff = 1\n",
    "\n",
    "# define the acquracy of the estimated rate\n",
    "diff_threshold = 0.0001\n",
    "\n",
    "bond_cf = np.empty( coupons_peryear*term)\n",
    "coupon_amount = (ppal * coupon_annual) / coupons_peryear\n",
    "\n",
    "print('Initial test rate is', test_rate)"
   ]
  },
  {
   "cell_type": "code",
   "execution_count": 4,
   "id": "7a1f62ac",
   "metadata": {},
   "outputs": [
    {
     "name": "stdout",
     "output_type": "stream",
     "text": [
      "New test rate is 0.25\n",
      "New test rate is 0.125\n",
      "New test rate is 0.0625\n",
      "New test rate is 0.09375\n",
      "New test rate is 0.078125\n",
      "New test rate is 0.0703125\n",
      "New test rate is 0.06640625\n",
      "New test rate is 0.06835938\n",
      "New test rate is 0.06738281\n",
      "New test rate is 0.06787109\n",
      "New test rate is 0.06762695\n",
      "New test rate is 0.06750488\n",
      "New test rate is 0.06756592\n",
      "New test rate is 0.06759644\n",
      "New test rate is 0.06761169\n",
      "New test rate is 0.06760406\n",
      "New test rate is 0.06760025\n",
      "New test rate is 0.06759834\n",
      "New test rate is 0.06759739\n",
      "Estimated interes rate is 0.06759739\n",
      "It took 19 iterations with 0.0001 decimal accuracy\n"
     ]
    }
   ],
   "source": [
    "while abs( diff ) > diff_threshold:\n",
    "    \n",
    "    # reinitiate end_value\n",
    "    end_value = 0\n",
    "    \n",
    "    # print(test_rate)\n",
    "    \n",
    "    # print('Test rate is:', test_rate)\n",
    "    for i in range( len(bond_cf) ):\n",
    "        if bond_cf[i] == bond_cf[-1]:\n",
    "            base = ppal+coupon_amount\n",
    "            # print(i, 'ppal + coupon')\n",
    "        else:\n",
    "            base = coupon_amount\n",
    "            # print(i, 'coupon')\n",
    "        # print(i, base, test_rate)\n",
    "\n",
    "        end_value = end_value + base * m.exp( - test_rate * (i+1)/2 )\n",
    "        # print(end_value)\n",
    "\n",
    "\n",
    "    \n",
    "    diff = end_value - bond_price\n",
    "    \n",
    "    if diff > 0:\n",
    "        min_estimate = test_rate\n",
    "        # print('New min_estimate is', round(min_estimate, 4))\n",
    "\n",
    "    elif diff < 0:\n",
    "        max_estimate = test_rate\n",
    "        # print('New max_estimate is', round(max_estimate, 4))\n",
    "\n",
    "    # setup the next int rate to estimate as half of min & max\n",
    "    test_rate = (min_estimate + max_estimate) / 2\n",
    "    count += 1\n",
    "    \n",
    "    print('New test rate is', round(test_rate, 8))\n",
    "\n",
    "int_rate = test_rate\n",
    "print('Estimated interes rate is', round(int_rate, 8) )\n",
    "print(f'It took {count} iterations with {diff_threshold} decimal accuracy') # the f is needed to print the count value\n"
   ]
  },
  {
   "cell_type": "code",
   "execution_count": null,
   "id": "a62948e4",
   "metadata": {},
   "outputs": [],
   "source": []
  }
 ],
 "metadata": {
  "kernelspec": {
   "display_name": "Python 3",
   "language": "python",
   "name": "python3"
  },
  "language_info": {
   "codemirror_mode": {
    "name": "ipython",
    "version": 3
   },
   "file_extension": ".py",
   "mimetype": "text/x-python",
   "name": "python",
   "nbconvert_exporter": "python",
   "pygments_lexer": "ipython3",
   "version": "3.8.8"
  }
 },
 "nbformat": 4,
 "nbformat_minor": 5
}
