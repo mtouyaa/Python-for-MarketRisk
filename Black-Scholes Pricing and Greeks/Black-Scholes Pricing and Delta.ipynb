{
 "cells": [
  {
   "cell_type": "markdown",
   "id": "6dc19233",
   "metadata": {},
   "source": [
    "# Black-Schole Pricing & Delta\n",
    "\n",
    "Assignment:\n",
    "\n",
    "    1) Create library that calculate price and delta for european and binary options (both call and put)\n",
    "    2) Import a CSV with options, convert to a DataFrame\n",
    "    3) Calculate the price and delta for every option in the DataFrame "
   ]
  },
  {
   "cell_type": "code",
   "execution_count": 9,
   "id": "d818bf86",
   "metadata": {},
   "outputs": [],
   "source": [
    "# import required libraries\n",
    "\n",
    "import pathlib\n",
    "import pandas as pd"
   ]
  },
  {
   "cell_type": "code",
   "execution_count": 10,
   "id": "1a6e67a2",
   "metadata": {},
   "outputs": [
    {
     "data": {
      "text/plain": [
       "WindowsPath('InputFiles/PricingData.xlsx')"
      ]
     },
     "execution_count": 10,
     "metadata": {},
     "output_type": "execute_result"
    }
   ],
   "source": [
    "# define input path to import data\n",
    "\n",
    "input_dir = pathlib.Path( r'InputFiles' )\n",
    "output_dir = pathlib.Path( 'OutputFiles' )\n",
    "\n",
    "pricing_data = input_dir / 'PricingData.xlsx'\n",
    "\n",
    "pricing_data"
   ]
  },
  {
   "cell_type": "code",
   "execution_count": 11,
   "id": "bf6fa6ee",
   "metadata": {},
   "outputs": [
    {
     "data": {
      "text/html": [
       "<div>\n",
       "<style scoped>\n",
       "    .dataframe tbody tr th:only-of-type {\n",
       "        vertical-align: middle;\n",
       "    }\n",
       "\n",
       "    .dataframe tbody tr th {\n",
       "        vertical-align: top;\n",
       "    }\n",
       "\n",
       "    .dataframe thead th {\n",
       "        text-align: right;\n",
       "    }\n",
       "</style>\n",
       "<table border=\"1\" class=\"dataframe\">\n",
       "  <thead>\n",
       "    <tr style=\"text-align: right;\">\n",
       "      <th></th>\n",
       "      <th>Date</th>\n",
       "      <th>TradeID</th>\n",
       "      <th>Spot</th>\n",
       "      <th>Strike</th>\n",
       "      <th>Maturity</th>\n",
       "      <th>Rate</th>\n",
       "      <th>Volatility</th>\n",
       "      <th>Product</th>\n",
       "      <th>OptionType</th>\n",
       "    </tr>\n",
       "  </thead>\n",
       "  <tbody>\n",
       "    <tr>\n",
       "      <th>0</th>\n",
       "      <td>18/05/2019</td>\n",
       "      <td>TradeA</td>\n",
       "      <td>90</td>\n",
       "      <td>95</td>\n",
       "      <td>0.75</td>\n",
       "      <td>0.018</td>\n",
       "      <td>0.26</td>\n",
       "      <td>Vanilla European</td>\n",
       "      <td>Call</td>\n",
       "    </tr>\n",
       "    <tr>\n",
       "      <th>1</th>\n",
       "      <td>18/05/2019</td>\n",
       "      <td>TradeB</td>\n",
       "      <td>101</td>\n",
       "      <td>106</td>\n",
       "      <td>1.00</td>\n",
       "      <td>0.022</td>\n",
       "      <td>0.33</td>\n",
       "      <td>Vanilla European</td>\n",
       "      <td>Put</td>\n",
       "    </tr>\n",
       "    <tr>\n",
       "      <th>2</th>\n",
       "      <td>18/05/2019</td>\n",
       "      <td>TradeC</td>\n",
       "      <td>102</td>\n",
       "      <td>105</td>\n",
       "      <td>0.25</td>\n",
       "      <td>0.013</td>\n",
       "      <td>0.19</td>\n",
       "      <td>Binary Option</td>\n",
       "      <td>Call</td>\n",
       "    </tr>\n",
       "  </tbody>\n",
       "</table>\n",
       "</div>"
      ],
      "text/plain": [
       "         Date TradeID  Spot  Strike  Maturity   Rate  Volatility  \\\n",
       "0  18/05/2019  TradeA    90      95      0.75  0.018        0.26   \n",
       "1  18/05/2019  TradeB   101     106      1.00  0.022        0.33   \n",
       "2  18/05/2019  TradeC   102     105      0.25  0.013        0.19   \n",
       "\n",
       "            Product OptionType  \n",
       "0  Vanilla European       Call  \n",
       "1  Vanilla European        Put  \n",
       "2     Binary Option       Call  "
      ]
     },
     "execution_count": 11,
     "metadata": {},
     "output_type": "execute_result"
    }
   ],
   "source": [
    "# import data\n",
    "\n",
    "pricing_df = pd.read_excel( pricing_data )\n",
    "pricing_df"
   ]
  },
  {
   "cell_type": "code",
   "execution_count": 12,
   "id": "2fb2a01d",
   "metadata": {},
   "outputs": [],
   "source": [
    "# Import library option_pricer as op\n",
    "\n",
    "import option_pricer as op"
   ]
  },
  {
   "cell_type": "code",
   "execution_count": 13,
   "id": "96f745d2",
   "metadata": {},
   "outputs": [],
   "source": [
    "# Apply option_pricer to claculate the options Price and Delta in new columns. \n",
    "\n",
    "pricing_df[['Opt Price','Delta']] = pricing_df.apply(lambda row: op.option_pricer(Spot = row['Spot'],\n",
    "                                                                                  K_strike = row['Strike'],\n",
    "                                                                                  rf_rate= row['Rate'],\n",
    "                                                                                  vol= row['Volatility'],\n",
    "                                                                                  Term= row['Maturity'],\n",
    "                                                                                  product = row['Product'],\n",
    "                                                                                  opt_type = row['OptionType'] ),\n",
    "                                                     axis = 1, result_type ='expand' )"
   ]
  },
  {
   "cell_type": "code",
   "execution_count": 14,
   "id": "9641693e",
   "metadata": {},
   "outputs": [
    {
     "data": {
      "text/html": [
       "<div>\n",
       "<style scoped>\n",
       "    .dataframe tbody tr th:only-of-type {\n",
       "        vertical-align: middle;\n",
       "    }\n",
       "\n",
       "    .dataframe tbody tr th {\n",
       "        vertical-align: top;\n",
       "    }\n",
       "\n",
       "    .dataframe thead th {\n",
       "        text-align: right;\n",
       "    }\n",
       "</style>\n",
       "<table border=\"1\" class=\"dataframe\">\n",
       "  <thead>\n",
       "    <tr style=\"text-align: right;\">\n",
       "      <th></th>\n",
       "      <th>Date</th>\n",
       "      <th>TradeID</th>\n",
       "      <th>Spot</th>\n",
       "      <th>Strike</th>\n",
       "      <th>Maturity</th>\n",
       "      <th>Rate</th>\n",
       "      <th>Volatility</th>\n",
       "      <th>Product</th>\n",
       "      <th>OptionType</th>\n",
       "      <th>Opt Price</th>\n",
       "      <th>Delta</th>\n",
       "    </tr>\n",
       "  </thead>\n",
       "  <tbody>\n",
       "    <tr>\n",
       "      <th>0</th>\n",
       "      <td>18/05/2019</td>\n",
       "      <td>TradeA</td>\n",
       "      <td>90</td>\n",
       "      <td>95</td>\n",
       "      <td>0.75</td>\n",
       "      <td>0.018</td>\n",
       "      <td>0.26</td>\n",
       "      <td>Vanilla European</td>\n",
       "      <td>Call</td>\n",
       "      <td>6.5042</td>\n",
       "      <td>0.473059</td>\n",
       "    </tr>\n",
       "    <tr>\n",
       "      <th>1</th>\n",
       "      <td>18/05/2019</td>\n",
       "      <td>TradeB</td>\n",
       "      <td>101</td>\n",
       "      <td>106</td>\n",
       "      <td>1.00</td>\n",
       "      <td>0.022</td>\n",
       "      <td>0.33</td>\n",
       "      <td>Vanilla European</td>\n",
       "      <td>Put</td>\n",
       "      <td>14.8021</td>\n",
       "      <td>-0.466033</td>\n",
       "    </tr>\n",
       "    <tr>\n",
       "      <th>2</th>\n",
       "      <td>18/05/2019</td>\n",
       "      <td>TradeC</td>\n",
       "      <td>102</td>\n",
       "      <td>105</td>\n",
       "      <td>0.25</td>\n",
       "      <td>0.013</td>\n",
       "      <td>0.19</td>\n",
       "      <td>Binary Option</td>\n",
       "      <td>Call</td>\n",
       "      <td>0.3739</td>\n",
       "      <td>0.039008</td>\n",
       "    </tr>\n",
       "  </tbody>\n",
       "</table>\n",
       "</div>"
      ],
      "text/plain": [
       "         Date TradeID  Spot  Strike  Maturity   Rate  Volatility  \\\n",
       "0  18/05/2019  TradeA    90      95      0.75  0.018        0.26   \n",
       "1  18/05/2019  TradeB   101     106      1.00  0.022        0.33   \n",
       "2  18/05/2019  TradeC   102     105      0.25  0.013        0.19   \n",
       "\n",
       "            Product OptionType  Opt Price     Delta  \n",
       "0  Vanilla European       Call     6.5042  0.473059  \n",
       "1  Vanilla European        Put    14.8021 -0.466033  \n",
       "2     Binary Option       Call     0.3739  0.039008  "
      ]
     },
     "execution_count": 14,
     "metadata": {},
     "output_type": "execute_result"
    }
   ],
   "source": [
    "# Display the new pricing_df, now with options prices and deltas calculated\n",
    "\n",
    "pricing_df"
   ]
  }
 ],
 "metadata": {
  "kernelspec": {
   "display_name": "Python 3",
   "language": "python",
   "name": "python3"
  },
  "language_info": {
   "codemirror_mode": {
    "name": "ipython",
    "version": 3
   },
   "file_extension": ".py",
   "mimetype": "text/x-python",
   "name": "python",
   "nbconvert_exporter": "python",
   "pygments_lexer": "ipython3",
   "version": "3.8.8"
  }
 },
 "nbformat": 4,
 "nbformat_minor": 5
}
