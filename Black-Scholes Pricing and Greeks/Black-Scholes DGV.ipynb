{
 "cells": [
  {
   "cell_type": "markdown",
   "id": "29e37f0f",
   "metadata": {},
   "source": [
    "# Black-Schols Delta-Gamma-Vega\n",
    "\n",
    "Assignment: create a Python function to calculate Delta/Gamma/Vega for European puts and calls"
   ]
  },
  {
   "cell_type": "markdown",
   "id": "5aa3d4fc",
   "metadata": {},
   "source": [
    "*Note I:* In order to keep the notebook short enough, I'll skip the variables validations\n",
    "(a detail case of validations can be found in the option_price library/function in this folder repository).\n",
    "\n",
    "*Note II:* no dividends considered."
   ]
  },
  {
   "cell_type": "markdown",
   "id": "397ea71f",
   "metadata": {},
   "source": [
    "FORMULAE from:\n",
    "    - Wikipedia (https://en.wikipedia.org/wiki/Greeks_(finance) )\n",
    "    - John Hull's book \"Risk Management and Financial Instituions\" (p. 674), Wiley, 2018."
   ]
  },
  {
   "cell_type": "code",
   "execution_count": 12,
   "id": "81a0d0da",
   "metadata": {},
   "outputs": [],
   "source": [
    "# import required libraries\n",
    "\n",
    "import math\n",
    "from scipy.stats import norm"
   ]
  },
  {
   "cell_type": "code",
   "execution_count": 13,
   "id": "d9882018",
   "metadata": {},
   "outputs": [],
   "source": [
    "# define eur_dgv function\n",
    "\n",
    "def eur_dgv(Spot, K_strike, rf_rate, vol, Term, opt_type = 'call'):\n",
    "    \n",
    "    assert opt_type.lower() in ('call', 'put'), \"Incorrect option type, please enter 'put' or 'call' \"\n",
    "    \n",
    "    opt_type = opt_type[0].lower()\n",
    "    \n",
    "    # calculate d1 and d2\n",
    "    d1 = ( math.log( Spot / K_strike) + (rf_rate + ((vol**2)/2) ) * Term ) / (vol*math.sqrt(Term))\n",
    "    \n",
    "    d2 = d1 - (vol * math.sqrt(Term))\n",
    "    \n",
    "    # calculate delta based on opt_type\n",
    "    # for calls\n",
    "    if (opt_type == 'c'):\n",
    "        delta = norm.cdf(d1)\n",
    "    \n",
    "    # for puts\n",
    "    elif (opt_type == 'p'):\n",
    "        delta = ( norm.cdf(d1) - 1 )\n",
    "        \n",
    "    # gamma is the same for puts & calls\n",
    "    gamma = ( norm.pdf(d1) * math.exp(-rf_rate * Term ) ) / ( Spot * vol * math.sqrt(Term) ) \n",
    "    \n",
    "    # gamma is the same for puts & calls\n",
    "    vega = ( Spot * math.sqrt(Term) * norm.pdf(d1) * math.exp(-rf_rate * Term ) ) / 100\n",
    "    \n",
    "    # return delta, gamma, vega\n",
    "    \n",
    "    return [delta, gamma, vega]"
   ]
  },
  {
   "cell_type": "code",
   "execution_count": 18,
   "id": "93b0e7f8",
   "metadata": {},
   "outputs": [
    {
     "ename": "AssertionError",
     "evalue": "Incorrect option type, please enter 'put' or 'call' ",
     "output_type": "error",
     "traceback": [
      "\u001b[1;31m---------------------------------------------------------------------------\u001b[0m",
      "\u001b[1;31mAssertionError\u001b[0m                            Traceback (most recent call last)",
      "\u001b[1;32m<ipython-input-18-874b88ad8ca4>\u001b[0m in \u001b[0;36m<module>\u001b[1;34m\u001b[0m\n\u001b[0;32m      1\u001b[0m \u001b[1;31m# forcing an incorrect option type, to confirm an error is triggered\u001b[0m\u001b[1;33m\u001b[0m\u001b[1;33m\u001b[0m\u001b[1;33m\u001b[0m\u001b[0m\n\u001b[0;32m      2\u001b[0m \u001b[1;33m\u001b[0m\u001b[0m\n\u001b[1;32m----> 3\u001b[1;33m \u001b[0meur_dgv\u001b[0m\u001b[1;33m(\u001b[0m\u001b[0mSpot\u001b[0m \u001b[1;33m=\u001b[0m \u001b[1;36m100\u001b[0m\u001b[1;33m,\u001b[0m \u001b[0mK_strike\u001b[0m \u001b[1;33m=\u001b[0m \u001b[1;36m120\u001b[0m\u001b[1;33m,\u001b[0m \u001b[0mrf_rate\u001b[0m \u001b[1;33m=\u001b[0m \u001b[1;36m0.03\u001b[0m\u001b[1;33m,\u001b[0m \u001b[0mvol\u001b[0m \u001b[1;33m=\u001b[0m \u001b[1;36m0.3\u001b[0m\u001b[1;33m,\u001b[0m \u001b[0mTerm\u001b[0m \u001b[1;33m=\u001b[0m \u001b[1;36m0.75\u001b[0m\u001b[1;33m,\u001b[0m \u001b[0mopt_type\u001b[0m \u001b[1;33m=\u001b[0m \u001b[1;34m'european'\u001b[0m\u001b[1;33m)\u001b[0m\u001b[1;33m\u001b[0m\u001b[1;33m\u001b[0m\u001b[0m\n\u001b[0m",
      "\u001b[1;32m<ipython-input-13-25e671a81cf2>\u001b[0m in \u001b[0;36meur_dgv\u001b[1;34m(Spot, K_strike, rf_rate, vol, Term, opt_type)\u001b[0m\n\u001b[0;32m      3\u001b[0m \u001b[1;32mdef\u001b[0m \u001b[0meur_dgv\u001b[0m\u001b[1;33m(\u001b[0m\u001b[0mSpot\u001b[0m\u001b[1;33m,\u001b[0m \u001b[0mK_strike\u001b[0m\u001b[1;33m,\u001b[0m \u001b[0mrf_rate\u001b[0m\u001b[1;33m,\u001b[0m \u001b[0mvol\u001b[0m\u001b[1;33m,\u001b[0m \u001b[0mTerm\u001b[0m\u001b[1;33m,\u001b[0m \u001b[0mopt_type\u001b[0m \u001b[1;33m=\u001b[0m \u001b[1;34m'call'\u001b[0m\u001b[1;33m)\u001b[0m\u001b[1;33m:\u001b[0m\u001b[1;33m\u001b[0m\u001b[1;33m\u001b[0m\u001b[0m\n\u001b[0;32m      4\u001b[0m \u001b[1;33m\u001b[0m\u001b[0m\n\u001b[1;32m----> 5\u001b[1;33m     \u001b[1;32massert\u001b[0m \u001b[0mopt_type\u001b[0m\u001b[1;33m.\u001b[0m\u001b[0mlower\u001b[0m\u001b[1;33m(\u001b[0m\u001b[1;33m)\u001b[0m \u001b[1;32min\u001b[0m \u001b[1;33m(\u001b[0m\u001b[1;34m'call'\u001b[0m\u001b[1;33m,\u001b[0m \u001b[1;34m'put'\u001b[0m\u001b[1;33m)\u001b[0m\u001b[1;33m,\u001b[0m \u001b[1;34m\"Incorrect option type, please enter 'put' or 'call' \"\u001b[0m\u001b[1;33m\u001b[0m\u001b[1;33m\u001b[0m\u001b[0m\n\u001b[0m\u001b[0;32m      6\u001b[0m \u001b[1;33m\u001b[0m\u001b[0m\n\u001b[0;32m      7\u001b[0m     \u001b[0mopt_type\u001b[0m \u001b[1;33m=\u001b[0m \u001b[0mopt_type\u001b[0m\u001b[1;33m[\u001b[0m\u001b[1;36m0\u001b[0m\u001b[1;33m]\u001b[0m\u001b[1;33m.\u001b[0m\u001b[0mlower\u001b[0m\u001b[1;33m(\u001b[0m\u001b[1;33m)\u001b[0m\u001b[1;33m\u001b[0m\u001b[1;33m\u001b[0m\u001b[0m\n",
      "\u001b[1;31mAssertionError\u001b[0m: Incorrect option type, please enter 'put' or 'call' "
     ]
    }
   ],
   "source": [
    "# forcing an incorrect option type, to confirm an error is triggered\n",
    "\n",
    "eur_dgv(Spot = 100, K_strike = 120, rf_rate = 0.03, vol = 0.3, Term = 0.75, opt_type = 'european')"
   ]
  },
  {
   "cell_type": "code",
   "execution_count": 19,
   "id": "363ce55d",
   "metadata": {},
   "outputs": [
    {
     "data": {
      "text/plain": [
       "[0.3137496338806378, 0.013346134464950993, 0.3002880254613973]"
      ]
     },
     "execution_count": 19,
     "metadata": {},
     "output_type": "execute_result"
    }
   ],
   "source": [
    "# calling the function for a randon call\n",
    "\n",
    "eur_dgv(Spot = 100, K_strike = 120, rf_rate = 0.03, vol = 0.3, Term = 0.75, opt_type = 'call')"
   ]
  },
  {
   "cell_type": "code",
   "execution_count": 20,
   "id": "912ba001",
   "metadata": {},
   "outputs": [
    {
     "data": {
      "text/plain": [
       "[-0.5470454279934771, 0.02113094851609062, 0.2912108842373739]"
      ]
     },
     "execution_count": 20,
     "metadata": {},
     "output_type": "execute_result"
    }
   ],
   "source": [
    "# calling the function for a randon put\n",
    "\n",
    "eur_dgv(Spot = 105, K_strike = 110, rf_rate = 0.02, vol = 0.25, Term = 0.5, opt_type = 'put')"
   ]
  },
  {
   "cell_type": "code",
   "execution_count": null,
   "id": "2f9efcb0",
   "metadata": {},
   "outputs": [],
   "source": []
  }
 ],
 "metadata": {
  "kernelspec": {
   "display_name": "Python 3",
   "language": "python",
   "name": "python3"
  },
  "language_info": {
   "codemirror_mode": {
    "name": "ipython",
    "version": 3
   },
   "file_extension": ".py",
   "mimetype": "text/x-python",
   "name": "python",
   "nbconvert_exporter": "python",
   "pygments_lexer": "ipython3",
   "version": "3.8.8"
  }
 },
 "nbformat": 4,
 "nbformat_minor": 5
}
